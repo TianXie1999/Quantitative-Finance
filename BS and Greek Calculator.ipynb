{
  "nbformat": 4,
  "nbformat_minor": 0,
  "metadata": {
    "colab": {
      "name": "Calculator.ipynb",
      "provenance": [],
      "collapsed_sections": [],
      "authorship_tag": "ABX9TyMTqepFFem225fSBHlV9+t8",
      "include_colab_link": true
    },
    "kernelspec": {
      "name": "python3",
      "display_name": "Python 3"
    },
    "language_info": {
      "name": "python"
    }
  },
  "cells": [
    {
      "cell_type": "markdown",
      "metadata": {
        "id": "view-in-github",
        "colab_type": "text"
      },
      "source": [
        "<a href=\"https://colab.research.google.com/github/TianXie1999/Quantitative-Finance/blob/main/BS%20and%20Greek%20Calculator.ipynb\" target=\"_parent\"><img src=\"https://colab.research.google.com/assets/colab-badge.svg\" alt=\"Open In Colab\"/></a>"
      ]
    },
    {
      "cell_type": "code",
      "metadata": {
        "id": "K7Igq_lNLOjw"
      },
      "source": [
        "#Calculate d1, d2, N(d1), N(d2)\n",
        "import numpy as np \n",
        "import scipy.stats as stats\n",
        "\n",
        "def d1(S0, K, r, y, sigma, T):\n",
        "    return (np.log(S0/K) + (r - y + sigma**2/ 2) * T)/(sigma * np.sqrt(T))\n",
        "\n",
        "def d2(S0, K, r, y, sigma, T):\n",
        "    return (np.log(S0/K) + (r - y - sigma**2 / 2) * T)/(sigma * np.sqrt(T))\n",
        "\n",
        "\n",
        "def BS(type, S0, K, r, y, sigma, T):\n",
        "  D1 = d1(S0, K, r, y, sigma, T)\n",
        "  D2 = d2(S0, K, r, y, sigma, T)\n",
        "  if type==\"C\":\n",
        "      return S0 * stats.norm.cdf(D1) - K * np.exp(-r * T) * stats.norm.cdf(D2)\n",
        "  else:\n",
        "      return K * np.exp(-r * T) * stats.norm.cdf(-D2) - S0 * stats.norm.cdf(-D1)\n",
        "\n",
        "\n",
        "def Delta(type, S0, K, r, y, sigma, T):\n",
        "  D1 = d1(S0, K, r, y, sigma, T)\n",
        "  if type==\"C\":\n",
        "    return np.exp(-y*T)*stats.norm.cdf(D1)\n",
        "  else:\n",
        "    return -np.exp(-y*T)*(1 - stats.norm.cdf(D1))\n",
        "\n",
        "def Gamma(S0, K, r, y, sigma, T):\n",
        "  D1 = d1(S0, K, r, y, sigma, T)\n",
        "  return np.exp(-y*T)*stats.norm.pdf(D1)/(S0*sigma*np.sqrt(T))\n",
        "\n",
        "def Theta(type, S0, K, r, y, sigma, T):\n",
        "  D1 = d1(S0, K, r, y, sigma, T)\n",
        "  D2 = d2(S0, K, r, y, sigma, T)\n",
        "  if type == \"C\":\n",
        "    return -S0*stats.norm.pdf(D1)*sigma*np.exp(-y*T)/(2*np.sqrt(T)) + y *S0 * stats.norm.cdf(D1)*np.exp(-y*T) - r * K * np.exp(-r*T) * stats.norm.cdf(D2)\n",
        "  else:\n",
        "    return -S0*stats.norm.pdf(D1)*sigma*np.exp(-y*T)/(2*np.sqrt(T)) - y *S0 * stats.norm.cdf(-D1)*np.exp(-y*T) + r * K * np.exp(-r*T) * stats.norm.cdf(-D2)\n",
        "\n",
        "def Vega(S0, K, r, y, sigma, T):\n",
        "  D1 = d1(S0, K, r, y, sigma, T)\n",
        "  return S0*np.exp(-y*T)*np.sqrt(T)*stats.norm.pdf(D1)"
      ],
      "execution_count": 19,
      "outputs": []
    },
    {
      "cell_type": "code",
      "metadata": {
        "id": "WkozuqanSjGf"
      },
      "source": [
        "# Using BS, Delta, Gamma\n",
        "\n",
        "#Type : \"C\" or \"P\"\n",
        "#S0: initial stock price\n",
        "#K: Strike Price, if in the money, S0 = K\n",
        "#r: risk-free rate\n",
        "#y: dividend rate\n",
        "#sigma: volatility\n",
        "#T: time, per year\n",
        "\n"
      ],
      "execution_count": null,
      "outputs": []
    },
    {
      "cell_type": "code",
      "metadata": {
        "colab": {
          "base_uri": "https://localhost:8080/"
        },
        "id": "bE-e-HtrVMc5",
        "outputId": "2046303a-5755-441b-bf5d-8c5c4b80d8da"
      },
      "source": [
        "Vega(100, 100, 0.05, 0, 0.25, 0.25)"
      ],
      "execution_count": 20,
      "outputs": [
        {
          "output_type": "execute_result",
          "data": {
            "text/plain": [
              "19.685480769235554"
            ]
          },
          "metadata": {},
          "execution_count": 20
        }
      ]
    }
  ]
}